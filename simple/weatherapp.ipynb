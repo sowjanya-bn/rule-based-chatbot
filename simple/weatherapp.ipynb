{
  "nbformat": 4,
  "nbformat_minor": 0,
  "metadata": {
    "colab": {
      "provenance": []
    },
    "kernelspec": {
      "name": "python3",
      "display_name": "Python 3"
    },
    "language_info": {
      "name": "python"
    }
  },
  "cells": [
    {
      "cell_type": "code",
      "execution_count": 1,
      "metadata": {
        "colab": {
          "base_uri": "https://localhost:8080/"
        },
        "id": "f9U-BwT8KzNT",
        "outputId": "897be3a3-29b9-4336-95fc-79530a28b54d"
      },
      "outputs": [
        {
          "output_type": "stream",
          "name": "stderr",
          "text": [
            "[nltk_data] Downloading package punkt to /root/nltk_data...\n",
            "[nltk_data]   Unzipping tokenizers/punkt.zip.\n",
            "[nltk_data] Downloading package wordnet to /root/nltk_data...\n",
            "[nltk_data] Downloading package punkt_tab to /root/nltk_data...\n",
            "[nltk_data]   Unzipping tokenizers/punkt_tab.zip.\n"
          ]
        },
        {
          "output_type": "execute_result",
          "data": {
            "text/plain": [
              "True"
            ]
          },
          "metadata": {},
          "execution_count": 1
        }
      ],
      "source": [
        "import nltk\n",
        "nltk.download('punkt')\n",
        "nltk.download('wordnet')\n",
        "nltk.download('punkt_tab')"
      ]
    },
    {
      "cell_type": "code",
      "source": [
        "context = {}  # Global dictionary to store conversation context"
      ],
      "metadata": {
        "id": "XTlMmkTELEKz"
      },
      "execution_count": 2,
      "outputs": []
    },
    {
      "cell_type": "code",
      "source": [
        "def chatbot_response(user_input):\n",
        "    \"\"\"Generates a response based on the user's input and the conversation context.\"\"\"\n",
        "    global context  # Access the global context dictionary\n",
        "    cleaned_input = clean_text(user_input)\n",
        "\n",
        "    # Use context if available (e.g., remember the user's name)\n",
        "    if \"name\" in context:\n",
        "        if \"what is my name\" in cleaned_input:\n",
        "            return f\"Your name is {context['name']}.\"\n",
        "\n",
        "    # --------------------------------------------------------------------------\n",
        "    # Option 1: Simple \"my name is\" check\n",
        "    # --------------------------------------------------------------------------\n",
        "    if \"my name is\" in cleaned_input:\n",
        "        name = cleaned_input.replace(\"my name is\", \"\").strip()\n",
        "        context[\"name\"] = name\n",
        "        return f\"Nice to meet you, {name}!\"\n",
        "\n",
        "    # --------------------------------------------------------------------------\n",
        "    # Option 2: Check if the statement starts with \"my name is\".  Better method\n",
        "    # --------------------------------------------------------------------------\n",
        "    if cleaned_input.startswith(\"my name is\"):\n",
        "        name = cleaned_input[len(\"my name is\"):].strip() #Slices the string, rather than replacing\n",
        "        context[\"name\"] = name\n",
        "        return f\"Nice to meet you, {name}!\"\n",
        "\n",
        "    # --------------------------------------------------------------------------\n",
        "    # Option 3: Using a regex. This is the most precise and robust\n",
        "    # --------------------------------------------------------------------------\n",
        "    name_match = re.search(r\"my name is (.*)\", cleaned_input)\n",
        "    if name_match:\n",
        "        name = name_match.group(1).strip()\n",
        "        context[\"name\"] = name\n",
        "        return f\"Nice to meet you, {name}!\"\n",
        "\n",
        "    # Regular pattern matching\n",
        "    for pattern, response_list in responses.items():\n",
        "        if isinstance(pattern, str) and pattern in cleaned_input:\n",
        "            return random.choice(response_list)\n",
        "        elif hasattr(pattern, 'search'):\n",
        "            match = pattern.search(cleaned_input)\n",
        "            if match:\n",
        "                return random.choice(response_list).format(match.group(1))\n",
        "\n",
        "    return \"I'm sorry, I don't understand. Can you rephrase that?\"  # Default response"
      ],
      "metadata": {
        "id": "Udb7gNn8K1Yr"
      },
      "execution_count": 3,
      "outputs": []
    },
    {
      "cell_type": "code",
      "source": [
        "import nltk\n",
        "import re\n",
        "import random\n",
        "import string\n",
        "from nltk.stem import WordNetLemmatizer\n",
        "\n",
        "nltk.download('punkt')\n",
        "nltk.download('wordnet')\n",
        "\n",
        "lemmatizer = WordNetLemmatizer()\n",
        "\n",
        "def clean_text(text):\n",
        "    \"\"\"Lowercase, remove punctuation, and lemmatize the input text.\"\"\"\n",
        "    text = text.lower()\n",
        "    text = \"\".join([char for char in text if char not in string.punctuation])\n",
        "\n",
        "    # Tokenize the text\n",
        "    tokens = nltk.word_tokenize(text)\n",
        "\n",
        "    # Lemmatize the tokens\n",
        "    lemmatized_tokens = [lemmatizer.lemmatize(token) for token in tokens]\n",
        "\n",
        "    # Join the tokens back into a string\n",
        "    cleaned_text = \" \".join(lemmatized_tokens)\n",
        "    return cleaned_text\n",
        "\n",
        "responses = {\n",
        "    \"hello\": [\"Hi there!\", \"Hello!\", \"Greetings!\"],\n",
        "    \"how are you\": [\"I'm doing well, thank you!\", \"I'm fine, thanks for asking.\", \"I'm good.\"],\n",
        "    \"what is your name\": [\"I am a chatbot.\", \"I don't have a name.\"],\n",
        "    \"bye\": [\"Goodbye!\", \"See you later!\", \"Farewell!\"],\n",
        "    \"tell me a joke\": [\"Why don't scientists trust atoms? Because they make up everything!\", \"What do you call a lazy kangaroo? Pouch potato!\"],\n",
        "    \"what is the weather like\": [\"I'm sorry, I don't have information about the weather.\", \"I am unable to provide weather information at this time.\"],\n",
        "    re.compile(r\"i be feel (.*)\"): [\"I'm sorry to hear you're feeling {}.  I hope you feel better soon.\",\n",
        "                             \"It's okay to not feel okay. Is there anything I can do to help you feel better?\" ]\n",
        "\n",
        "}\n",
        "\n",
        "context = {}  # Global dictionary to store conversation context\n",
        "\n",
        "def chatbot_response(user_input):\n",
        "    \"\"\"Generates a response based on the user's input and the conversation context.\"\"\"\n",
        "    global context  # Access the global context dictionary\n",
        "    cleaned_input = clean_text(user_input)\n",
        "\n",
        "    # Check for context-related inputs (e.g., asking for a name)\n",
        "    if \"my name\" in cleaned_input:\n",
        "        name = cleaned_input.replace(\"my name\", \"\").strip()\n",
        "        context[\"name\"] = name\n",
        "        return f\"Nice to meet you, {name}!\"\n",
        "\n",
        "    # Use context if available (e.g., remember the user's name)\n",
        "    if \"name\" in context:\n",
        "        if \"what is my name\" in cleaned_input:\n",
        "            return f\"Your name is {context['name']}.\"\n",
        "\n",
        "    # Regular pattern matching\n",
        "    for pattern, response_list in responses.items():\n",
        "        if isinstance(pattern, str) and pattern in cleaned_input:\n",
        "            return random.choice(response_list)\n",
        "        elif hasattr(pattern, 'search'):\n",
        "            match = pattern.search(cleaned_input)\n",
        "            if match:\n",
        "                return random.choice(response_list).format(match.group(1))\n",
        "\n",
        "    return \"I'm sorry, I don't understand. Can you rephrase that?\"  # Default response\n",
        "\n",
        "def start_chat():\n",
        "    \"\"\"Starts the chatbot conversation.\"\"\"\n",
        "    print(\"Chatbot: Hello! How can I help you today? (Type 'bye' to exit)\")\n",
        "    while True:\n",
        "        user_input = input(\"You: \")\n",
        "        if user_input.lower() == \"bye\":\n",
        "            print(\"Chatbot: Goodbye!\")\n",
        "            break\n",
        "        else:\n",
        "            print(\"Chatbot:\", chatbot_response(user_input))\n",
        "\n",
        "# Start the chat\n",
        "start_chat()"
      ],
      "metadata": {
        "colab": {
          "base_uri": "https://localhost:8080/",
          "height": 490
        },
        "id": "2ysGOcyAK4ga",
        "outputId": "c29aef14-3c8f-4ecc-b15c-423acdf56491"
      },
      "execution_count": 4,
      "outputs": [
        {
          "output_type": "stream",
          "name": "stderr",
          "text": [
            "[nltk_data] Downloading package punkt to /root/nltk_data...\n",
            "[nltk_data]   Package punkt is already up-to-date!\n",
            "[nltk_data] Downloading package wordnet to /root/nltk_data...\n",
            "[nltk_data]   Package wordnet is already up-to-date!\n"
          ]
        },
        {
          "output_type": "stream",
          "name": "stdout",
          "text": [
            "Chatbot: Hello! How can I help you today? (Type 'bye' to exit)\n",
            "You: Hello\n",
            "Chatbot: Hello!\n",
            "You: Weather in London\n",
            "Chatbot: I'm sorry, I don't understand. Can you rephrase that?\n"
          ]
        },
        {
          "output_type": "error",
          "ename": "KeyboardInterrupt",
          "evalue": "Interrupted by user",
          "traceback": [
            "\u001b[0;31m---------------------------------------------------------------------------\u001b[0m",
            "\u001b[0;31mKeyboardInterrupt\u001b[0m                         Traceback (most recent call last)",
            "\u001b[0;32m<ipython-input-4-b340b4e521ac>\u001b[0m in \u001b[0;36m<cell line: 0>\u001b[0;34m()\u001b[0m\n\u001b[1;32m     78\u001b[0m \u001b[0;34m\u001b[0m\u001b[0m\n\u001b[1;32m     79\u001b[0m \u001b[0;31m# Start the chat\u001b[0m\u001b[0;34m\u001b[0m\u001b[0;34m\u001b[0m\u001b[0m\n\u001b[0;32m---> 80\u001b[0;31m \u001b[0mstart_chat\u001b[0m\u001b[0;34m(\u001b[0m\u001b[0;34m)\u001b[0m\u001b[0;34m\u001b[0m\u001b[0;34m\u001b[0m\u001b[0m\n\u001b[0m",
            "\u001b[0;32m<ipython-input-4-b340b4e521ac>\u001b[0m in \u001b[0;36mstart_chat\u001b[0;34m()\u001b[0m\n\u001b[1;32m     70\u001b[0m     \u001b[0mprint\u001b[0m\u001b[0;34m(\u001b[0m\u001b[0;34m\"Chatbot: Hello! How can I help you today? (Type 'bye' to exit)\"\u001b[0m\u001b[0;34m)\u001b[0m\u001b[0;34m\u001b[0m\u001b[0;34m\u001b[0m\u001b[0m\n\u001b[1;32m     71\u001b[0m     \u001b[0;32mwhile\u001b[0m \u001b[0;32mTrue\u001b[0m\u001b[0;34m:\u001b[0m\u001b[0;34m\u001b[0m\u001b[0;34m\u001b[0m\u001b[0m\n\u001b[0;32m---> 72\u001b[0;31m         \u001b[0muser_input\u001b[0m \u001b[0;34m=\u001b[0m \u001b[0minput\u001b[0m\u001b[0;34m(\u001b[0m\u001b[0;34m\"You: \"\u001b[0m\u001b[0;34m)\u001b[0m\u001b[0;34m\u001b[0m\u001b[0;34m\u001b[0m\u001b[0m\n\u001b[0m\u001b[1;32m     73\u001b[0m         \u001b[0;32mif\u001b[0m \u001b[0muser_input\u001b[0m\u001b[0;34m.\u001b[0m\u001b[0mlower\u001b[0m\u001b[0;34m(\u001b[0m\u001b[0;34m)\u001b[0m \u001b[0;34m==\u001b[0m \u001b[0;34m\"bye\"\u001b[0m\u001b[0;34m:\u001b[0m\u001b[0;34m\u001b[0m\u001b[0;34m\u001b[0m\u001b[0m\n\u001b[1;32m     74\u001b[0m             \u001b[0mprint\u001b[0m\u001b[0;34m(\u001b[0m\u001b[0;34m\"Chatbot: Goodbye!\"\u001b[0m\u001b[0;34m)\u001b[0m\u001b[0;34m\u001b[0m\u001b[0;34m\u001b[0m\u001b[0m\n",
            "\u001b[0;32m/usr/local/lib/python3.11/dist-packages/ipykernel/kernelbase.py\u001b[0m in \u001b[0;36mraw_input\u001b[0;34m(self, prompt)\u001b[0m\n\u001b[1;32m   1175\u001b[0m                 \u001b[0;34m\"raw_input was called, but this frontend does not support input requests.\"\u001b[0m\u001b[0;34m\u001b[0m\u001b[0;34m\u001b[0m\u001b[0m\n\u001b[1;32m   1176\u001b[0m             )\n\u001b[0;32m-> 1177\u001b[0;31m         return self._input_request(\n\u001b[0m\u001b[1;32m   1178\u001b[0m             \u001b[0mstr\u001b[0m\u001b[0;34m(\u001b[0m\u001b[0mprompt\u001b[0m\u001b[0;34m)\u001b[0m\u001b[0;34m,\u001b[0m\u001b[0;34m\u001b[0m\u001b[0;34m\u001b[0m\u001b[0m\n\u001b[1;32m   1179\u001b[0m             \u001b[0mself\u001b[0m\u001b[0;34m.\u001b[0m\u001b[0m_parent_ident\u001b[0m\u001b[0;34m[\u001b[0m\u001b[0;34m\"shell\"\u001b[0m\u001b[0;34m]\u001b[0m\u001b[0;34m,\u001b[0m\u001b[0;34m\u001b[0m\u001b[0;34m\u001b[0m\u001b[0m\n",
            "\u001b[0;32m/usr/local/lib/python3.11/dist-packages/ipykernel/kernelbase.py\u001b[0m in \u001b[0;36m_input_request\u001b[0;34m(self, prompt, ident, parent, password)\u001b[0m\n\u001b[1;32m   1217\u001b[0m             \u001b[0;32mexcept\u001b[0m \u001b[0mKeyboardInterrupt\u001b[0m\u001b[0;34m:\u001b[0m\u001b[0;34m\u001b[0m\u001b[0;34m\u001b[0m\u001b[0m\n\u001b[1;32m   1218\u001b[0m                 \u001b[0;31m# re-raise KeyboardInterrupt, to truncate traceback\u001b[0m\u001b[0;34m\u001b[0m\u001b[0;34m\u001b[0m\u001b[0m\n\u001b[0;32m-> 1219\u001b[0;31m                 \u001b[0;32mraise\u001b[0m \u001b[0mKeyboardInterrupt\u001b[0m\u001b[0;34m(\u001b[0m\u001b[0;34m\"Interrupted by user\"\u001b[0m\u001b[0;34m)\u001b[0m \u001b[0;32mfrom\u001b[0m \u001b[0;32mNone\u001b[0m\u001b[0;34m\u001b[0m\u001b[0;34m\u001b[0m\u001b[0m\n\u001b[0m\u001b[1;32m   1220\u001b[0m             \u001b[0;32mexcept\u001b[0m \u001b[0mException\u001b[0m\u001b[0;34m:\u001b[0m\u001b[0;34m\u001b[0m\u001b[0;34m\u001b[0m\u001b[0m\n\u001b[1;32m   1221\u001b[0m                 \u001b[0mself\u001b[0m\u001b[0;34m.\u001b[0m\u001b[0mlog\u001b[0m\u001b[0;34m.\u001b[0m\u001b[0mwarning\u001b[0m\u001b[0;34m(\u001b[0m\u001b[0;34m\"Invalid Message:\"\u001b[0m\u001b[0;34m,\u001b[0m \u001b[0mexc_info\u001b[0m\u001b[0;34m=\u001b[0m\u001b[0;32mTrue\u001b[0m\u001b[0;34m)\u001b[0m\u001b[0;34m\u001b[0m\u001b[0;34m\u001b[0m\u001b[0m\n",
            "\u001b[0;31mKeyboardInterrupt\u001b[0m: Interrupted by user"
          ]
        }
      ]
    },
    {
      "cell_type": "code",
      "source": [
        "import nltk\n",
        "import re\n",
        "import random\n",
        "import string\n",
        "from nltk.stem import WordNetLemmatizer\n",
        "import requests\n",
        "import json\n",
        "\n",
        "nltk.download('punkt')\n",
        "nltk.download('wordnet')\n",
        "\n",
        "lemmatizer = WordNetLemmatizer()\n",
        "\n",
        "def clean_text(text):\n",
        "    \"\"\"Lowercase, remove punctuation, and lemmatize the input text.\"\"\"\n",
        "    text = text.lower()\n",
        "    text = \"\".join([char for char in text if char not in string.punctuation])\n",
        "\n",
        "    # Tokenize the text\n",
        "    tokens = nltk.word_tokenize(text)\n",
        "\n",
        "    # Lemmatize the tokens\n",
        "    lemmatized_tokens = [lemmatizer.lemmatize(token) for token in tokens]\n",
        "\n",
        "    # Join the tokens back into a string\n",
        "    cleaned_text = \" \".join(lemmatized_tokens)\n",
        "    return cleaned_text\n",
        "\n",
        "responses = {\n",
        "    \"hello\": [\"Hi there!\", \"Hello!\", \"Greetings!\"],\n",
        "    \"how are you\": [\"I'm doing well, thank you!\", \"I'm fine, thanks for asking.\", \"I'm good.\"],\n",
        "    \"what is your name\": [\"I am a chatbot.\", \"I don't have a name.\"],\n",
        "    \"bye\": [\"Goodbye!\", \"See you later!\", \"Farewell!\"],\n",
        "    \"tell me a joke\": [\"Why don't scientists trust atoms? Because they make up everything!\", \"What do you call a lazy kangaroo? Pouch potato!\"],\n",
        "    re.compile(r\"i be feel (.*)\"): [\"I'm sorry to hear you're feeling {}.  I hope you feel better soon.\",\n",
        "                             \"It's okay to not feel okay. Is there anything I can do to help you feel better?\" ]\n",
        "\n",
        "}\n",
        "\n",
        "context = {}  # Global dictionary to store conversation context\n",
        "\n",
        "# OpenWeatherMap API Key\n",
        "OPENWEATHERMAP_API_KEY = \"c01571db4edb0daba5332ba55287ede4\"  # Replace with your actual API key\n",
        "\n",
        "def get_weather(city):\n",
        "    \"\"\"Retrieves weather information from OpenWeatherMap API.\"\"\"\n",
        "    base_url = \"http://api.openweathermap.org/data/2.5/weather\"\n",
        "    params = {\n",
        "        \"q\": city,\n",
        "        \"appid\": \"434a91178556ec742d1ac1a31fb07b93\",\n",
        "        \"units\": \"metric\"  # Use metric units for temperature\n",
        "    }\n",
        "    try:\n",
        "        response = requests.get(base_url, params=params)\n",
        "        print(response.json())\n",
        "        response.raise_for_status()  # Raise HTTPError for bad responses (4xx or 5xx)\n",
        "        data = response.json()\n",
        "        weather_description = data[\"weather\"][0][\"description\"]\n",
        "        temperature = data[\"main\"][\"temp\"]\n",
        "        return f\"The weather in {city} is {weather_description} with a temperature of {temperature}°C.\"\n",
        "    except requests.exceptions.RequestException as e:\n",
        "        return f\"Sorry, I couldn't retrieve weather information for {city}.\"\n",
        "\n",
        "def chatbot_response(user_input):\n",
        "    \"\"\"Generates a response based on the user's input and the conversation context.\"\"\"\n",
        "    global context  # Access the global context dictionary\n",
        "    cleaned_input = clean_text(user_input)\n",
        "\n",
        "    # Use context if available (e.g., remember the user's name)\n",
        "    if \"name\" in context:\n",
        "        if \"what is my name\" in cleaned_input:\n",
        "            return f\"Your name is {context['name']}.\"\n",
        "\n",
        "    # Check for weather-related questions\n",
        "    if \"weather in\" in cleaned_input:\n",
        "        city = cleaned_input.replace(\"weather in\", \"\").strip()\n",
        "        weather_info = get_weather(city)\n",
        "        return weather_info\n",
        "\n",
        "    # Regular pattern matching\n",
        "    for pattern, response_list in responses.items():\n",
        "        if isinstance(pattern, str) and pattern in cleaned_input:\n",
        "            return random.choice(response_list)\n",
        "        elif hasattr(pattern, 'search'):\n",
        "            match = pattern.search(cleaned_input)\n",
        "            if match:\n",
        "                return random.choice(response_list).format(match.group(1))\n",
        "\n",
        "    return \"I'm sorry, I don't understand. Can you rephrase that?\"  # Default response\n",
        "\n",
        "def start_chat():\n",
        "    \"\"\"Starts the chatbot conversation.\"\"\"\n",
        "    print(\"Chatbot: Hello! How can I help you today? (Type 'bye' to exit)\")\n",
        "    while True:\n",
        "        user_input = input(\"You: \")\n",
        "        if user_input.lower() == \"bye\":\n",
        "            print(\"Chatbot: Goodbye!\")\n",
        "            break\n",
        "        else:\n",
        "            print(\"Chatbot:\", chatbot_response(user_input))\n",
        "\n",
        "# Start the chat\n",
        "start_chat()"
      ],
      "metadata": {
        "colab": {
          "base_uri": "https://localhost:8080/",
          "height": 636
        },
        "id": "2w_XFGNRLCyC",
        "outputId": "17af6eeb-c2be-4939-8667-4d4fac2ff848"
      },
      "execution_count": 6,
      "outputs": [
        {
          "metadata": {
            "tags": null
          },
          "name": "stderr",
          "output_type": "stream",
          "text": [
            "[nltk_data] Downloading package punkt to /root/nltk_data...\n",
            "[nltk_data]   Package punkt is already up-to-date!\n",
            "[nltk_data] Downloading package wordnet to /root/nltk_data...\n",
            "[nltk_data]   Package wordnet is already up-to-date!\n"
          ]
        },
        {
          "metadata": {
            "tags": null
          },
          "name": "stdout",
          "output_type": "stream",
          "text": [
            "Chatbot: Hello! How can I help you today? (Type 'bye' to exit)\n",
            "Chatbot: Greetings!\n",
            "{'coord': {'lon': -0.1257, 'lat': 51.5085}, 'weather': [{'id': 804, 'main': 'Clouds', 'description': 'overcast clouds', 'icon': '04d'}], 'base': 'stations', 'main': {'temp': 17.04, 'feels_like': 16.39, 'temp_min': 15.95, 'temp_max': 17.79, 'pressure': 1012, 'humidity': 61, 'sea_level': 1012, 'grnd_level': 1008}, 'visibility': 10000, 'wind': {'speed': 4.47, 'deg': 212, 'gust': 6.71}, 'clouds': {'all': 100}, 'dt': 1741354057, 'sys': {'type': 2, 'id': 2091269, 'country': 'GB', 'sunrise': 1741329155, 'sunset': 1741369843}, 'timezone': 0, 'id': 2643743, 'name': 'London', 'cod': 200}\n",
            "Chatbot: The weather in london is overcast clouds with a temperature of 17.04°C.\n",
            "{'coord': {'lon': -2.9779, 'lat': 53.4106}, 'weather': [{'id': 803, 'main': 'Clouds', 'description': 'broken clouds', 'icon': '04d'}], 'base': 'stations', 'main': {'temp': 13.48, 'feels_like': 12.92, 'temp_min': 12.84, 'temp_max': 14.78, 'pressure': 1008, 'humidity': 78, 'sea_level': 1008, 'grnd_level': 1005}, 'visibility': 10000, 'wind': {'speed': 5.81, 'deg': 160, 'gust': 5.81}, 'clouds': {'all': 75}, 'dt': 1741354223, 'sys': {'type': 2, 'id': 2101058, 'country': 'GB', 'sunrise': 1741329937, 'sunset': 1741370430}, 'timezone': 0, 'id': 2644210, 'name': 'Liverpool', 'cod': 200}\n",
            "Chatbot: The weather in liverpool is broken clouds with a temperature of 13.48°C.\n",
            "Chatbot: I'm fine, thanks for asking.\n",
            "{'coord': {'lon': 2.3488, 'lat': 48.8534}, 'weather': [{'id': 800, 'main': 'Clear', 'description': 'clear sky', 'icon': '01d'}], 'base': 'stations', 'main': {'temp': 17.63, 'feels_like': 16.52, 'temp_min': 16.43, 'temp_max': 18.28, 'pressure': 1015, 'humidity': 41, 'sea_level': 1015, 'grnd_level': 1005}, 'visibility': 10000, 'wind': {'speed': 5.14, 'deg': 160}, 'clouds': {'all': 0}, 'dt': 1741354186, 'sys': {'type': 2, 'id': 2012208, 'country': 'FR', 'sunrise': 1741328437, 'sunset': 1741369374}, 'timezone': 3600, 'id': 2988507, 'name': 'Paris', 'cod': 200}\n",
            "Chatbot: The weather in paris is clear sky with a temperature of 17.63°C.\n",
            "{'coord': {'lon': 77.2167, 'lat': 28.6667}, 'weather': [{'id': 721, 'main': 'Haze', 'description': 'haze', 'icon': '50n'}], 'base': 'stations', 'main': {'temp': 21.05, 'feels_like': 20.33, 'temp_min': 21.05, 'temp_max': 21.05, 'pressure': 1008, 'humidity': 43, 'sea_level': 1008, 'grnd_level': 983}, 'visibility': 4000, 'wind': {'speed': 1.03, 'deg': 0}, 'clouds': {'all': 0}, 'dt': 1741365003, 'sys': {'type': 1, 'id': 9165, 'country': 'IN', 'sunrise': 1741309808, 'sunset': 1741352072}, 'timezone': 19800, 'id': 1273294, 'name': 'Delhi', 'cod': 200}\n",
            "Chatbot: The weather in delhi is haze with a temperature of 21.05°C.\n"
          ]
        },
        {
          "ename": "KeyboardInterrupt",
          "evalue": "Interrupted by user",
          "output_type": "error",
          "traceback": [
            "\u001b[0;31m---------------------------------------------------------------------------\u001b[0m",
            "\u001b[0;31mKeyboardInterrupt\u001b[0m                         Traceback (most recent call last)",
            "\u001b[0;32m<ipython-input-6-143660379342>\u001b[0m in \u001b[0;36m<cell line: 0>\u001b[0;34m()\u001b[0m\n\u001b[1;32m    101\u001b[0m \u001b[0;34m\u001b[0m\u001b[0m\n\u001b[1;32m    102\u001b[0m \u001b[0;31m# Start the chat\u001b[0m\u001b[0;34m\u001b[0m\u001b[0;34m\u001b[0m\u001b[0m\n\u001b[0;32m--> 103\u001b[0;31m \u001b[0mstart_chat\u001b[0m\u001b[0;34m(\u001b[0m\u001b[0;34m)\u001b[0m\u001b[0;34m\u001b[0m\u001b[0;34m\u001b[0m\u001b[0m\n\u001b[0m",
            "\u001b[0;32m<ipython-input-6-143660379342>\u001b[0m in \u001b[0;36mstart_chat\u001b[0;34m()\u001b[0m\n\u001b[1;32m     93\u001b[0m     \u001b[0mprint\u001b[0m\u001b[0;34m(\u001b[0m\u001b[0;34m\"Chatbot: Hello! How can I help you today? (Type 'bye' to exit)\"\u001b[0m\u001b[0;34m)\u001b[0m\u001b[0;34m\u001b[0m\u001b[0;34m\u001b[0m\u001b[0m\n\u001b[1;32m     94\u001b[0m     \u001b[0;32mwhile\u001b[0m \u001b[0;32mTrue\u001b[0m\u001b[0;34m:\u001b[0m\u001b[0;34m\u001b[0m\u001b[0;34m\u001b[0m\u001b[0m\n\u001b[0;32m---> 95\u001b[0;31m         \u001b[0muser_input\u001b[0m \u001b[0;34m=\u001b[0m \u001b[0minput\u001b[0m\u001b[0;34m(\u001b[0m\u001b[0;34m\"You: \"\u001b[0m\u001b[0;34m)\u001b[0m\u001b[0;34m\u001b[0m\u001b[0;34m\u001b[0m\u001b[0m\n\u001b[0m\u001b[1;32m     96\u001b[0m         \u001b[0;32mif\u001b[0m \u001b[0muser_input\u001b[0m\u001b[0;34m.\u001b[0m\u001b[0mlower\u001b[0m\u001b[0;34m(\u001b[0m\u001b[0;34m)\u001b[0m \u001b[0;34m==\u001b[0m \u001b[0;34m\"bye\"\u001b[0m\u001b[0;34m:\u001b[0m\u001b[0;34m\u001b[0m\u001b[0;34m\u001b[0m\u001b[0m\n\u001b[1;32m     97\u001b[0m             \u001b[0mprint\u001b[0m\u001b[0;34m(\u001b[0m\u001b[0;34m\"Chatbot: Goodbye!\"\u001b[0m\u001b[0;34m)\u001b[0m\u001b[0;34m\u001b[0m\u001b[0;34m\u001b[0m\u001b[0m\n",
            "\u001b[0;32m/usr/local/lib/python3.11/dist-packages/ipykernel/kernelbase.py\u001b[0m in \u001b[0;36mraw_input\u001b[0;34m(self, prompt)\u001b[0m\n\u001b[1;32m   1175\u001b[0m                 \u001b[0;34m\"raw_input was called, but this frontend does not support input requests.\"\u001b[0m\u001b[0;34m\u001b[0m\u001b[0;34m\u001b[0m\u001b[0m\n\u001b[1;32m   1176\u001b[0m             )\n\u001b[0;32m-> 1177\u001b[0;31m         return self._input_request(\n\u001b[0m\u001b[1;32m   1178\u001b[0m             \u001b[0mstr\u001b[0m\u001b[0;34m(\u001b[0m\u001b[0mprompt\u001b[0m\u001b[0;34m)\u001b[0m\u001b[0;34m,\u001b[0m\u001b[0;34m\u001b[0m\u001b[0;34m\u001b[0m\u001b[0m\n\u001b[1;32m   1179\u001b[0m             \u001b[0mself\u001b[0m\u001b[0;34m.\u001b[0m\u001b[0m_parent_ident\u001b[0m\u001b[0;34m[\u001b[0m\u001b[0;34m\"shell\"\u001b[0m\u001b[0;34m]\u001b[0m\u001b[0;34m,\u001b[0m\u001b[0;34m\u001b[0m\u001b[0;34m\u001b[0m\u001b[0m\n",
            "\u001b[0;32m/usr/local/lib/python3.11/dist-packages/ipykernel/kernelbase.py\u001b[0m in \u001b[0;36m_input_request\u001b[0;34m(self, prompt, ident, parent, password)\u001b[0m\n\u001b[1;32m   1217\u001b[0m             \u001b[0;32mexcept\u001b[0m \u001b[0mKeyboardInterrupt\u001b[0m\u001b[0;34m:\u001b[0m\u001b[0;34m\u001b[0m\u001b[0;34m\u001b[0m\u001b[0m\n\u001b[1;32m   1218\u001b[0m                 \u001b[0;31m# re-raise KeyboardInterrupt, to truncate traceback\u001b[0m\u001b[0;34m\u001b[0m\u001b[0;34m\u001b[0m\u001b[0m\n\u001b[0;32m-> 1219\u001b[0;31m                 \u001b[0;32mraise\u001b[0m \u001b[0mKeyboardInterrupt\u001b[0m\u001b[0;34m(\u001b[0m\u001b[0;34m\"Interrupted by user\"\u001b[0m\u001b[0;34m)\u001b[0m \u001b[0;32mfrom\u001b[0m \u001b[0;32mNone\u001b[0m\u001b[0;34m\u001b[0m\u001b[0;34m\u001b[0m\u001b[0m\n\u001b[0m\u001b[1;32m   1220\u001b[0m             \u001b[0;32mexcept\u001b[0m \u001b[0mException\u001b[0m\u001b[0;34m:\u001b[0m\u001b[0;34m\u001b[0m\u001b[0;34m\u001b[0m\u001b[0m\n\u001b[1;32m   1221\u001b[0m                 \u001b[0mself\u001b[0m\u001b[0;34m.\u001b[0m\u001b[0mlog\u001b[0m\u001b[0;34m.\u001b[0m\u001b[0mwarning\u001b[0m\u001b[0;34m(\u001b[0m\u001b[0;34m\"Invalid Message:\"\u001b[0m\u001b[0;34m,\u001b[0m \u001b[0mexc_info\u001b[0m\u001b[0;34m=\u001b[0m\u001b[0;32mTrue\u001b[0m\u001b[0;34m)\u001b[0m\u001b[0;34m\u001b[0m\u001b[0;34m\u001b[0m\u001b[0m\n",
            "\u001b[0;31mKeyboardInterrupt\u001b[0m: Interrupted by user"
          ]
        }
      ]
    }
  ]
}